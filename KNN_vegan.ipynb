{
  "nbformat": 4,
  "nbformat_minor": 0,
  "metadata": {
    "colab": {
      "provenance": [],
      "collapsed_sections": []
    },
    "kernelspec": {
      "name": "python3",
      "display_name": "Python 3"
    },
    "language_info": {
      "name": "python"
    }
  },
  "cells": [
    {
      "cell_type": "code",
      "source": [
        "import pandas as pd\n",
        "import numpy as np\n",
        "import matplotlib.pyplot as plt\n",
        "%matplotlib inline"
      ],
      "metadata": {
        "id": "YxXZIKqN-Bgi"
      },
      "execution_count": null,
      "outputs": []
    },
    {
      "cell_type": "code",
      "source": [
        "from sklearn.neighbors import KNeighborsClassifier\n",
        "from sklearn.model_selection import cross_val_predict, cross_val_score\n",
        "from sklearn.metrics import mean_absolute_error, mean_squared_error, r2_score\n",
        "from sklearn import preprocessing\n",
        "from sklearn.preprocessing import StandardScaler\n",
        "from sklearn.model_selection import train_test_split\n",
        "from sklearn.metrics import plot_roc_curve\n",
        "from sklearn.metrics import confusion_matrix, plot_confusion_matrix\n"
      ],
      "metadata": {
        "id": "52_aKcB9aked"
      },
      "execution_count": null,
      "outputs": []
    },
    {
      "cell_type": "markdown",
      "source": [
        "En primer lugar se han cargado los datos. Se ha utilizado la selección de nutrientes que se ha utilizado para la clusterización."
      ],
      "metadata": {
        "id": "rglgIVjIBzuF"
      }
    },
    {
      "cell_type": "code",
      "source": [
        "\n",
        "url = 'https://raw.githubusercontent.com/luciapp97/TFM/main/meat_nut.csv'\n",
        "\n",
        "# Creacion Dataframe\n",
        "df_food = pd.read_csv(url, sep=';', decimal = '.')\n",
        "\n",
        "# Visualización del dataframe (la cabecera)\n",
        "\n",
        "print(df_food.info())\n",
        "\n",
        "df_food.head()"
      ],
      "metadata": {
        "colab": {
          "base_uri": "https://localhost:8080/",
          "height": 640
        },
        "id": "wdH-WQiUbhsz",
        "outputId": "f9c9c6a4-71ae-4d00-bfc2-b2cd46b238e7"
      },
      "execution_count": null,
      "outputs": [
        {
          "output_type": "stream",
          "name": "stdout",
          "text": [
            "<class 'pandas.core.frame.DataFrame'>\n",
            "RangeIndex: 852 entries, 0 to 851\n",
            "Data columns (total 17 columns):\n",
            " #   Column          Non-Null Count  Dtype  \n",
            "---  ------          --------------  -----  \n",
            " 0   fdc_id          852 non-null    int64  \n",
            " 1   description     852 non-null    object \n",
            " 2   is_vegan        852 non-null    bool   \n",
            " 3   Ca              852 non-null    int64  \n",
            " 4   CALORIES        852 non-null    int64  \n",
            " 5   Carbohydrate    852 non-null    float64\n",
            " 6   Cholesterol     852 non-null    int64  \n",
            " 7   Dietary  Fiber  852 non-null    float64\n",
            " 8   FAT             852 non-null    float64\n",
            " 9   Fat, saturated  852 non-null    float64\n",
            " 10  Fe              852 non-null    float64\n",
            " 11  K               852 non-null    int64  \n",
            " 12  Na              852 non-null    int64  \n",
            " 13  Protein         852 non-null    float64\n",
            " 14  Total Trans FA  852 non-null    float64\n",
            " 15  Vitamin A       852 non-null    int64  \n",
            " 16  Vitamin C       852 non-null    float64\n",
            "dtypes: bool(1), float64(8), int64(7), object(1)\n",
            "memory usage: 107.5+ KB\n",
            "None\n"
          ]
        },
        {
          "output_type": "execute_result",
          "data": {
            "text/plain": [
              "   fdc_id                                        description  is_vegan  Ca  \\\n",
              "0  344922  GARDENBURGER GB VEGGIE BURGERS BLACK BEAN 3OZ ...      True  59   \n",
              "1  357261  FIELD ROAST, VEGETARIAN GRAIN MEAT SAUSAGES, M...      True  22   \n",
              "2  386009  NO BULL BURGER, VEGGIE BURGER, SUNDRIED TOMATO...      True  33   \n",
              "3  390193                               VEGGIE GROUND, VEGAN      True  73   \n",
              "4  390230                               VEGGIE TURKEY, VEGAN      True   0   \n",
              "\n",
              "   CALORIES  Carbohydrate  Cholesterol  Dietary  Fiber    FAT  Fat, saturated  \\\n",
              "0       112         16.90            0             7.4   3.00            0.30   \n",
              "1       272         13.04            0             4.3  13.04            1.09   \n",
              "2       132         23.14            0             5.8   2.07            0.00   \n",
              "3       109          9.09            0             3.6   0.91            0.00   \n",
              "4       157          7.84            0             0.0   1.96            0.00   \n",
              "\n",
              "     Fe    K   Na  Protein  Total Trans FA  Vitamin A  Vitamin C  \n",
              "0  2.70  284  761    10.80             0.1          0        0.0  \n",
              "1  1.96    0  565    25.00             0.0          0        0.0  \n",
              "2  2.98  438  372     7.44             0.0        413        4.0  \n",
              "3  4.91  509  491    18.18             0.0          0        0.0  \n",
              "4  7.06  451  647    23.53             0.0          0        0.0  "
            ],
            "text/html": [
              "\n",
              "  <div id=\"df-4cb2ed37-31f4-4dbb-bc72-9a31b2ecd0c2\">\n",
              "    <div class=\"colab-df-container\">\n",
              "      <div>\n",
              "<style scoped>\n",
              "    .dataframe tbody tr th:only-of-type {\n",
              "        vertical-align: middle;\n",
              "    }\n",
              "\n",
              "    .dataframe tbody tr th {\n",
              "        vertical-align: top;\n",
              "    }\n",
              "\n",
              "    .dataframe thead th {\n",
              "        text-align: right;\n",
              "    }\n",
              "</style>\n",
              "<table border=\"1\" class=\"dataframe\">\n",
              "  <thead>\n",
              "    <tr style=\"text-align: right;\">\n",
              "      <th></th>\n",
              "      <th>fdc_id</th>\n",
              "      <th>description</th>\n",
              "      <th>is_vegan</th>\n",
              "      <th>Ca</th>\n",
              "      <th>CALORIES</th>\n",
              "      <th>Carbohydrate</th>\n",
              "      <th>Cholesterol</th>\n",
              "      <th>Dietary  Fiber</th>\n",
              "      <th>FAT</th>\n",
              "      <th>Fat, saturated</th>\n",
              "      <th>Fe</th>\n",
              "      <th>K</th>\n",
              "      <th>Na</th>\n",
              "      <th>Protein</th>\n",
              "      <th>Total Trans FA</th>\n",
              "      <th>Vitamin A</th>\n",
              "      <th>Vitamin C</th>\n",
              "    </tr>\n",
              "  </thead>\n",
              "  <tbody>\n",
              "    <tr>\n",
              "      <th>0</th>\n",
              "      <td>344922</td>\n",
              "      <td>GARDENBURGER GB VEGGIE BURGERS BLACK BEAN 3OZ ...</td>\n",
              "      <td>True</td>\n",
              "      <td>59</td>\n",
              "      <td>112</td>\n",
              "      <td>16.90</td>\n",
              "      <td>0</td>\n",
              "      <td>7.4</td>\n",
              "      <td>3.00</td>\n",
              "      <td>0.30</td>\n",
              "      <td>2.70</td>\n",
              "      <td>284</td>\n",
              "      <td>761</td>\n",
              "      <td>10.80</td>\n",
              "      <td>0.1</td>\n",
              "      <td>0</td>\n",
              "      <td>0.0</td>\n",
              "    </tr>\n",
              "    <tr>\n",
              "      <th>1</th>\n",
              "      <td>357261</td>\n",
              "      <td>FIELD ROAST, VEGETARIAN GRAIN MEAT SAUSAGES, M...</td>\n",
              "      <td>True</td>\n",
              "      <td>22</td>\n",
              "      <td>272</td>\n",
              "      <td>13.04</td>\n",
              "      <td>0</td>\n",
              "      <td>4.3</td>\n",
              "      <td>13.04</td>\n",
              "      <td>1.09</td>\n",
              "      <td>1.96</td>\n",
              "      <td>0</td>\n",
              "      <td>565</td>\n",
              "      <td>25.00</td>\n",
              "      <td>0.0</td>\n",
              "      <td>0</td>\n",
              "      <td>0.0</td>\n",
              "    </tr>\n",
              "    <tr>\n",
              "      <th>2</th>\n",
              "      <td>386009</td>\n",
              "      <td>NO BULL BURGER, VEGGIE BURGER, SUNDRIED TOMATO...</td>\n",
              "      <td>True</td>\n",
              "      <td>33</td>\n",
              "      <td>132</td>\n",
              "      <td>23.14</td>\n",
              "      <td>0</td>\n",
              "      <td>5.8</td>\n",
              "      <td>2.07</td>\n",
              "      <td>0.00</td>\n",
              "      <td>2.98</td>\n",
              "      <td>438</td>\n",
              "      <td>372</td>\n",
              "      <td>7.44</td>\n",
              "      <td>0.0</td>\n",
              "      <td>413</td>\n",
              "      <td>4.0</td>\n",
              "    </tr>\n",
              "    <tr>\n",
              "      <th>3</th>\n",
              "      <td>390193</td>\n",
              "      <td>VEGGIE GROUND, VEGAN</td>\n",
              "      <td>True</td>\n",
              "      <td>73</td>\n",
              "      <td>109</td>\n",
              "      <td>9.09</td>\n",
              "      <td>0</td>\n",
              "      <td>3.6</td>\n",
              "      <td>0.91</td>\n",
              "      <td>0.00</td>\n",
              "      <td>4.91</td>\n",
              "      <td>509</td>\n",
              "      <td>491</td>\n",
              "      <td>18.18</td>\n",
              "      <td>0.0</td>\n",
              "      <td>0</td>\n",
              "      <td>0.0</td>\n",
              "    </tr>\n",
              "    <tr>\n",
              "      <th>4</th>\n",
              "      <td>390230</td>\n",
              "      <td>VEGGIE TURKEY, VEGAN</td>\n",
              "      <td>True</td>\n",
              "      <td>0</td>\n",
              "      <td>157</td>\n",
              "      <td>7.84</td>\n",
              "      <td>0</td>\n",
              "      <td>0.0</td>\n",
              "      <td>1.96</td>\n",
              "      <td>0.00</td>\n",
              "      <td>7.06</td>\n",
              "      <td>451</td>\n",
              "      <td>647</td>\n",
              "      <td>23.53</td>\n",
              "      <td>0.0</td>\n",
              "      <td>0</td>\n",
              "      <td>0.0</td>\n",
              "    </tr>\n",
              "  </tbody>\n",
              "</table>\n",
              "</div>\n",
              "      <button class=\"colab-df-convert\" onclick=\"convertToInteractive('df-4cb2ed37-31f4-4dbb-bc72-9a31b2ecd0c2')\"\n",
              "              title=\"Convert this dataframe to an interactive table.\"\n",
              "              style=\"display:none;\">\n",
              "        \n",
              "  <svg xmlns=\"http://www.w3.org/2000/svg\" height=\"24px\"viewBox=\"0 0 24 24\"\n",
              "       width=\"24px\">\n",
              "    <path d=\"M0 0h24v24H0V0z\" fill=\"none\"/>\n",
              "    <path d=\"M18.56 5.44l.94 2.06.94-2.06 2.06-.94-2.06-.94-.94-2.06-.94 2.06-2.06.94zm-11 1L8.5 8.5l.94-2.06 2.06-.94-2.06-.94L8.5 2.5l-.94 2.06-2.06.94zm10 10l.94 2.06.94-2.06 2.06-.94-2.06-.94-.94-2.06-.94 2.06-2.06.94z\"/><path d=\"M17.41 7.96l-1.37-1.37c-.4-.4-.92-.59-1.43-.59-.52 0-1.04.2-1.43.59L10.3 9.45l-7.72 7.72c-.78.78-.78 2.05 0 2.83L4 21.41c.39.39.9.59 1.41.59.51 0 1.02-.2 1.41-.59l7.78-7.78 2.81-2.81c.8-.78.8-2.07 0-2.86zM5.41 20L4 18.59l7.72-7.72 1.47 1.35L5.41 20z\"/>\n",
              "  </svg>\n",
              "      </button>\n",
              "      \n",
              "  <style>\n",
              "    .colab-df-container {\n",
              "      display:flex;\n",
              "      flex-wrap:wrap;\n",
              "      gap: 12px;\n",
              "    }\n",
              "\n",
              "    .colab-df-convert {\n",
              "      background-color: #E8F0FE;\n",
              "      border: none;\n",
              "      border-radius: 50%;\n",
              "      cursor: pointer;\n",
              "      display: none;\n",
              "      fill: #1967D2;\n",
              "      height: 32px;\n",
              "      padding: 0 0 0 0;\n",
              "      width: 32px;\n",
              "    }\n",
              "\n",
              "    .colab-df-convert:hover {\n",
              "      background-color: #E2EBFA;\n",
              "      box-shadow: 0px 1px 2px rgba(60, 64, 67, 0.3), 0px 1px 3px 1px rgba(60, 64, 67, 0.15);\n",
              "      fill: #174EA6;\n",
              "    }\n",
              "\n",
              "    [theme=dark] .colab-df-convert {\n",
              "      background-color: #3B4455;\n",
              "      fill: #D2E3FC;\n",
              "    }\n",
              "\n",
              "    [theme=dark] .colab-df-convert:hover {\n",
              "      background-color: #434B5C;\n",
              "      box-shadow: 0px 1px 3px 1px rgba(0, 0, 0, 0.15);\n",
              "      filter: drop-shadow(0px 1px 2px rgba(0, 0, 0, 0.3));\n",
              "      fill: #FFFFFF;\n",
              "    }\n",
              "  </style>\n",
              "\n",
              "      <script>\n",
              "        const buttonEl =\n",
              "          document.querySelector('#df-4cb2ed37-31f4-4dbb-bc72-9a31b2ecd0c2 button.colab-df-convert');\n",
              "        buttonEl.style.display =\n",
              "          google.colab.kernel.accessAllowed ? 'block' : 'none';\n",
              "\n",
              "        async function convertToInteractive(key) {\n",
              "          const element = document.querySelector('#df-4cb2ed37-31f4-4dbb-bc72-9a31b2ecd0c2');\n",
              "          const dataTable =\n",
              "            await google.colab.kernel.invokeFunction('convertToInteractive',\n",
              "                                                     [key], {});\n",
              "          if (!dataTable) return;\n",
              "\n",
              "          const docLinkHtml = 'Like what you see? Visit the ' +\n",
              "            '<a target=\"_blank\" href=https://colab.research.google.com/notebooks/data_table.ipynb>data table notebook</a>'\n",
              "            + ' to learn more about interactive tables.';\n",
              "          element.innerHTML = '';\n",
              "          dataTable['output_type'] = 'display_data';\n",
              "          await google.colab.output.renderOutput(dataTable, element);\n",
              "          const docLink = document.createElement('div');\n",
              "          docLink.innerHTML = docLinkHtml;\n",
              "          element.appendChild(docLink);\n",
              "        }\n",
              "      </script>\n",
              "    </div>\n",
              "  </div>\n",
              "  "
            ]
          },
          "metadata": {},
          "execution_count": 3
        }
      ]
    },
    {
      "cell_type": "markdown",
      "source": [
        "Como se puede observar, el dataset consta de 752 alimentos cárnicos y 100 veganos."
      ],
      "metadata": {
        "id": "kUsXmm2S215F"
      }
    },
    {
      "cell_type": "code",
      "source": [
        "df_food[\"is_vegan\"].value_counts()"
      ],
      "metadata": {
        "colab": {
          "base_uri": "https://localhost:8080/"
        },
        "id": "g_48LVvBQtRV",
        "outputId": "ce438ccd-c1f3-45cd-8277-944651c4cd2a"
      },
      "execution_count": null,
      "outputs": [
        {
          "output_type": "execute_result",
          "data": {
            "text/plain": [
              "False    752\n",
              "True     100\n",
              "Name: is_vegan, dtype: int64"
            ]
          },
          "metadata": {},
          "execution_count": 4
        }
      ]
    },
    {
      "cell_type": "markdown",
      "source": [
        "Dentro del dataset, se tiene un 11,7 % de productos veganos con respecto al total"
      ],
      "metadata": {
        "id": "EefMRhJj3sin"
      }
    },
    {
      "cell_type": "code",
      "source": [
        "df_food[\"is_vegan\"].value_counts()/(len(df_food))"
      ],
      "metadata": {
        "colab": {
          "base_uri": "https://localhost:8080/"
        },
        "id": "MGn7TCys30JG",
        "outputId": "1815fe03-ded1-4923-8e86-8468d43e74dd"
      },
      "execution_count": null,
      "outputs": [
        {
          "output_type": "execute_result",
          "data": {
            "text/plain": [
              "False    0.882629\n",
              "True     0.117371\n",
              "Name: is_vegan, dtype: float64"
            ]
          },
          "metadata": {},
          "execution_count": 5
        }
      ]
    },
    {
      "cell_type": "markdown",
      "source": [
        "## 1. Preprocesado:\n",
        "\n"
      ],
      "metadata": {
        "id": "bLj-_M9SCjqD"
      }
    },
    {
      "cell_type": "markdown",
      "source": [
        "- **Escalar los datos para su uso por el algoritmo.**\n",
        "\n",
        "En primer lugar, se han escalado los datos ya que había grandes diferencias en los valores."
      ],
      "metadata": {
        "id": "EwvTS5K0SGUJ"
      }
    },
    {
      "cell_type": "code",
      "source": [
        "df_food2 = df_food.drop([\"description\",\"fdc_id\",\"is_vegan\"], axis = 1)\n",
        "\n",
        "scaler = StandardScaler()\n",
        "scaled = scaler.fit(df_food2).transform(df_food2)"
      ],
      "metadata": {
        "id": "p9aGUl0PU9LJ"
      },
      "execution_count": null,
      "outputs": []
    },
    {
      "cell_type": "code",
      "source": [
        "df_food3 = pd.DataFrame(scaled, columns= df_food2.columns)\n",
        "\n",
        "\n",
        "\n",
        "df_food3 = pd.concat([df_food3, df_food[\"is_vegan\"]], axis=1)\n",
        "df_food3.head()\n",
        "\n",
        "df_food3.head()"
      ],
      "metadata": {
        "colab": {
          "base_uri": "https://localhost:8080/",
          "height": 206
        },
        "id": "qNZjmXnuVD24",
        "outputId": "a84a4e79-b2cd-49c4-d703-36ec761fbeba"
      },
      "execution_count": null,
      "outputs": [
        {
          "output_type": "execute_result",
          "data": {
            "text/plain": [
              "         Ca  CALORIES  Carbohydrate  Cholesterol  Dietary  Fiber       FAT  \\\n",
              "0  0.773441 -0.978926      1.472339    -1.709537        3.377798 -1.004493   \n",
              "1 -0.112982  0.466168      0.988001    -1.709537        1.772067 -0.120198   \n",
              "2  0.150549 -0.798289      2.255309    -1.709537        2.549034 -1.086404   \n",
              "3  1.108844 -1.006021      0.492371    -1.709537        1.409483 -1.188574   \n",
              "4 -0.640044 -0.572493      0.335526    -1.709537       -0.455237 -1.096093   \n",
              "\n",
              "   Fat, saturated        Fe         K        Na   Protein  Total Trans FA  \\\n",
              "0       -1.026478 -0.046200  1.292033  0.402091 -1.142425        0.129133   \n",
              "1       -0.852791 -0.047913 -0.576751  0.021205  1.340133       -0.280783   \n",
              "2       -1.092435 -0.045552  2.305388 -0.353851 -1.729847       -0.280783   \n",
              "3       -1.092435 -0.041085  2.772584 -0.122599  0.147806       -0.280783   \n",
              "4       -1.092435 -0.036109  2.390931  0.180555  1.083136       -0.280783   \n",
              "\n",
              "   Vitamin A  Vitamin C  is_vegan  \n",
              "0  -0.166494  -0.249061      True  \n",
              "1  -0.166494  -0.249061      True  \n",
              "2   0.337015   1.326583      True  \n",
              "3  -0.166494  -0.249061      True  \n",
              "4  -0.166494  -0.249061      True  "
            ],
            "text/html": [
              "\n",
              "  <div id=\"df-865357dd-db62-4398-8a33-32bf1f03c0ab\">\n",
              "    <div class=\"colab-df-container\">\n",
              "      <div>\n",
              "<style scoped>\n",
              "    .dataframe tbody tr th:only-of-type {\n",
              "        vertical-align: middle;\n",
              "    }\n",
              "\n",
              "    .dataframe tbody tr th {\n",
              "        vertical-align: top;\n",
              "    }\n",
              "\n",
              "    .dataframe thead th {\n",
              "        text-align: right;\n",
              "    }\n",
              "</style>\n",
              "<table border=\"1\" class=\"dataframe\">\n",
              "  <thead>\n",
              "    <tr style=\"text-align: right;\">\n",
              "      <th></th>\n",
              "      <th>Ca</th>\n",
              "      <th>CALORIES</th>\n",
              "      <th>Carbohydrate</th>\n",
              "      <th>Cholesterol</th>\n",
              "      <th>Dietary  Fiber</th>\n",
              "      <th>FAT</th>\n",
              "      <th>Fat, saturated</th>\n",
              "      <th>Fe</th>\n",
              "      <th>K</th>\n",
              "      <th>Na</th>\n",
              "      <th>Protein</th>\n",
              "      <th>Total Trans FA</th>\n",
              "      <th>Vitamin A</th>\n",
              "      <th>Vitamin C</th>\n",
              "      <th>is_vegan</th>\n",
              "    </tr>\n",
              "  </thead>\n",
              "  <tbody>\n",
              "    <tr>\n",
              "      <th>0</th>\n",
              "      <td>0.773441</td>\n",
              "      <td>-0.978926</td>\n",
              "      <td>1.472339</td>\n",
              "      <td>-1.709537</td>\n",
              "      <td>3.377798</td>\n",
              "      <td>-1.004493</td>\n",
              "      <td>-1.026478</td>\n",
              "      <td>-0.046200</td>\n",
              "      <td>1.292033</td>\n",
              "      <td>0.402091</td>\n",
              "      <td>-1.142425</td>\n",
              "      <td>0.129133</td>\n",
              "      <td>-0.166494</td>\n",
              "      <td>-0.249061</td>\n",
              "      <td>True</td>\n",
              "    </tr>\n",
              "    <tr>\n",
              "      <th>1</th>\n",
              "      <td>-0.112982</td>\n",
              "      <td>0.466168</td>\n",
              "      <td>0.988001</td>\n",
              "      <td>-1.709537</td>\n",
              "      <td>1.772067</td>\n",
              "      <td>-0.120198</td>\n",
              "      <td>-0.852791</td>\n",
              "      <td>-0.047913</td>\n",
              "      <td>-0.576751</td>\n",
              "      <td>0.021205</td>\n",
              "      <td>1.340133</td>\n",
              "      <td>-0.280783</td>\n",
              "      <td>-0.166494</td>\n",
              "      <td>-0.249061</td>\n",
              "      <td>True</td>\n",
              "    </tr>\n",
              "    <tr>\n",
              "      <th>2</th>\n",
              "      <td>0.150549</td>\n",
              "      <td>-0.798289</td>\n",
              "      <td>2.255309</td>\n",
              "      <td>-1.709537</td>\n",
              "      <td>2.549034</td>\n",
              "      <td>-1.086404</td>\n",
              "      <td>-1.092435</td>\n",
              "      <td>-0.045552</td>\n",
              "      <td>2.305388</td>\n",
              "      <td>-0.353851</td>\n",
              "      <td>-1.729847</td>\n",
              "      <td>-0.280783</td>\n",
              "      <td>0.337015</td>\n",
              "      <td>1.326583</td>\n",
              "      <td>True</td>\n",
              "    </tr>\n",
              "    <tr>\n",
              "      <th>3</th>\n",
              "      <td>1.108844</td>\n",
              "      <td>-1.006021</td>\n",
              "      <td>0.492371</td>\n",
              "      <td>-1.709537</td>\n",
              "      <td>1.409483</td>\n",
              "      <td>-1.188574</td>\n",
              "      <td>-1.092435</td>\n",
              "      <td>-0.041085</td>\n",
              "      <td>2.772584</td>\n",
              "      <td>-0.122599</td>\n",
              "      <td>0.147806</td>\n",
              "      <td>-0.280783</td>\n",
              "      <td>-0.166494</td>\n",
              "      <td>-0.249061</td>\n",
              "      <td>True</td>\n",
              "    </tr>\n",
              "    <tr>\n",
              "      <th>4</th>\n",
              "      <td>-0.640044</td>\n",
              "      <td>-0.572493</td>\n",
              "      <td>0.335526</td>\n",
              "      <td>-1.709537</td>\n",
              "      <td>-0.455237</td>\n",
              "      <td>-1.096093</td>\n",
              "      <td>-1.092435</td>\n",
              "      <td>-0.036109</td>\n",
              "      <td>2.390931</td>\n",
              "      <td>0.180555</td>\n",
              "      <td>1.083136</td>\n",
              "      <td>-0.280783</td>\n",
              "      <td>-0.166494</td>\n",
              "      <td>-0.249061</td>\n",
              "      <td>True</td>\n",
              "    </tr>\n",
              "  </tbody>\n",
              "</table>\n",
              "</div>\n",
              "      <button class=\"colab-df-convert\" onclick=\"convertToInteractive('df-865357dd-db62-4398-8a33-32bf1f03c0ab')\"\n",
              "              title=\"Convert this dataframe to an interactive table.\"\n",
              "              style=\"display:none;\">\n",
              "        \n",
              "  <svg xmlns=\"http://www.w3.org/2000/svg\" height=\"24px\"viewBox=\"0 0 24 24\"\n",
              "       width=\"24px\">\n",
              "    <path d=\"M0 0h24v24H0V0z\" fill=\"none\"/>\n",
              "    <path d=\"M18.56 5.44l.94 2.06.94-2.06 2.06-.94-2.06-.94-.94-2.06-.94 2.06-2.06.94zm-11 1L8.5 8.5l.94-2.06 2.06-.94-2.06-.94L8.5 2.5l-.94 2.06-2.06.94zm10 10l.94 2.06.94-2.06 2.06-.94-2.06-.94-.94-2.06-.94 2.06-2.06.94z\"/><path d=\"M17.41 7.96l-1.37-1.37c-.4-.4-.92-.59-1.43-.59-.52 0-1.04.2-1.43.59L10.3 9.45l-7.72 7.72c-.78.78-.78 2.05 0 2.83L4 21.41c.39.39.9.59 1.41.59.51 0 1.02-.2 1.41-.59l7.78-7.78 2.81-2.81c.8-.78.8-2.07 0-2.86zM5.41 20L4 18.59l7.72-7.72 1.47 1.35L5.41 20z\"/>\n",
              "  </svg>\n",
              "      </button>\n",
              "      \n",
              "  <style>\n",
              "    .colab-df-container {\n",
              "      display:flex;\n",
              "      flex-wrap:wrap;\n",
              "      gap: 12px;\n",
              "    }\n",
              "\n",
              "    .colab-df-convert {\n",
              "      background-color: #E8F0FE;\n",
              "      border: none;\n",
              "      border-radius: 50%;\n",
              "      cursor: pointer;\n",
              "      display: none;\n",
              "      fill: #1967D2;\n",
              "      height: 32px;\n",
              "      padding: 0 0 0 0;\n",
              "      width: 32px;\n",
              "    }\n",
              "\n",
              "    .colab-df-convert:hover {\n",
              "      background-color: #E2EBFA;\n",
              "      box-shadow: 0px 1px 2px rgba(60, 64, 67, 0.3), 0px 1px 3px 1px rgba(60, 64, 67, 0.15);\n",
              "      fill: #174EA6;\n",
              "    }\n",
              "\n",
              "    [theme=dark] .colab-df-convert {\n",
              "      background-color: #3B4455;\n",
              "      fill: #D2E3FC;\n",
              "    }\n",
              "\n",
              "    [theme=dark] .colab-df-convert:hover {\n",
              "      background-color: #434B5C;\n",
              "      box-shadow: 0px 1px 3px 1px rgba(0, 0, 0, 0.15);\n",
              "      filter: drop-shadow(0px 1px 2px rgba(0, 0, 0, 0.3));\n",
              "      fill: #FFFFFF;\n",
              "    }\n",
              "  </style>\n",
              "\n",
              "      <script>\n",
              "        const buttonEl =\n",
              "          document.querySelector('#df-865357dd-db62-4398-8a33-32bf1f03c0ab button.colab-df-convert');\n",
              "        buttonEl.style.display =\n",
              "          google.colab.kernel.accessAllowed ? 'block' : 'none';\n",
              "\n",
              "        async function convertToInteractive(key) {\n",
              "          const element = document.querySelector('#df-865357dd-db62-4398-8a33-32bf1f03c0ab');\n",
              "          const dataTable =\n",
              "            await google.colab.kernel.invokeFunction('convertToInteractive',\n",
              "                                                     [key], {});\n",
              "          if (!dataTable) return;\n",
              "\n",
              "          const docLinkHtml = 'Like what you see? Visit the ' +\n",
              "            '<a target=\"_blank\" href=https://colab.research.google.com/notebooks/data_table.ipynb>data table notebook</a>'\n",
              "            + ' to learn more about interactive tables.';\n",
              "          element.innerHTML = '';\n",
              "          dataTable['output_type'] = 'display_data';\n",
              "          await google.colab.output.renderOutput(dataTable, element);\n",
              "          const docLink = document.createElement('div');\n",
              "          docLink.innerHTML = docLinkHtml;\n",
              "          element.appendChild(docLink);\n",
              "        }\n",
              "      </script>\n",
              "    </div>\n",
              "  </div>\n",
              "  "
            ]
          },
          "metadata": {},
          "execution_count": 7
        }
      ]
    },
    {
      "cell_type": "markdown",
      "source": [
        "Se ha eliminado la columna food id ya que se trata de un identificador único que no tiene sentido utilizar para predecir."
      ],
      "metadata": {
        "id": "lwhItmCpaf3_"
      }
    },
    {
      "cell_type": "markdown",
      "source": [
        "**Convertir todas las variables categóricas a numéricas (is_vegan)**\n",
        "\n",
        "Vemos como todas las variables son numéricas a excepción de la columna de categoría Vegana o no."
      ],
      "metadata": {
        "id": "cdiFqMltO4un"
      }
    },
    {
      "cell_type": "code",
      "source": [
        "le = preprocessing.LabelEncoder()\n",
        "le.fit(df_food['is_vegan'])\n",
        "df_food3['is_vegan'] = le.transform(df_food3['is_vegan'])"
      ],
      "metadata": {
        "id": "MBAlgSE3EWh1"
      },
      "execution_count": null,
      "outputs": []
    },
    {
      "cell_type": "code",
      "source": [
        "df_food3.head()"
      ],
      "metadata": {
        "colab": {
          "base_uri": "https://localhost:8080/",
          "height": 206
        },
        "id": "yhvr8V14ElSF",
        "outputId": "acbfce0d-bb72-4923-bce4-5c8b5200971d"
      },
      "execution_count": null,
      "outputs": [
        {
          "output_type": "execute_result",
          "data": {
            "text/plain": [
              "         Ca  CALORIES  Carbohydrate  Cholesterol  Dietary  Fiber       FAT  \\\n",
              "0  0.773441 -0.978926      1.472339    -1.709537        3.377798 -1.004493   \n",
              "1 -0.112982  0.466168      0.988001    -1.709537        1.772067 -0.120198   \n",
              "2  0.150549 -0.798289      2.255309    -1.709537        2.549034 -1.086404   \n",
              "3  1.108844 -1.006021      0.492371    -1.709537        1.409483 -1.188574   \n",
              "4 -0.640044 -0.572493      0.335526    -1.709537       -0.455237 -1.096093   \n",
              "\n",
              "   Fat, saturated        Fe         K        Na   Protein  Total Trans FA  \\\n",
              "0       -1.026478 -0.046200  1.292033  0.402091 -1.142425        0.129133   \n",
              "1       -0.852791 -0.047913 -0.576751  0.021205  1.340133       -0.280783   \n",
              "2       -1.092435 -0.045552  2.305388 -0.353851 -1.729847       -0.280783   \n",
              "3       -1.092435 -0.041085  2.772584 -0.122599  0.147806       -0.280783   \n",
              "4       -1.092435 -0.036109  2.390931  0.180555  1.083136       -0.280783   \n",
              "\n",
              "   Vitamin A  Vitamin C  is_vegan  \n",
              "0  -0.166494  -0.249061         1  \n",
              "1  -0.166494  -0.249061         1  \n",
              "2   0.337015   1.326583         1  \n",
              "3  -0.166494  -0.249061         1  \n",
              "4  -0.166494  -0.249061         1  "
            ],
            "text/html": [
              "\n",
              "  <div id=\"df-7ae93653-a0df-471d-8b7c-a8974add7cf0\">\n",
              "    <div class=\"colab-df-container\">\n",
              "      <div>\n",
              "<style scoped>\n",
              "    .dataframe tbody tr th:only-of-type {\n",
              "        vertical-align: middle;\n",
              "    }\n",
              "\n",
              "    .dataframe tbody tr th {\n",
              "        vertical-align: top;\n",
              "    }\n",
              "\n",
              "    .dataframe thead th {\n",
              "        text-align: right;\n",
              "    }\n",
              "</style>\n",
              "<table border=\"1\" class=\"dataframe\">\n",
              "  <thead>\n",
              "    <tr style=\"text-align: right;\">\n",
              "      <th></th>\n",
              "      <th>Ca</th>\n",
              "      <th>CALORIES</th>\n",
              "      <th>Carbohydrate</th>\n",
              "      <th>Cholesterol</th>\n",
              "      <th>Dietary  Fiber</th>\n",
              "      <th>FAT</th>\n",
              "      <th>Fat, saturated</th>\n",
              "      <th>Fe</th>\n",
              "      <th>K</th>\n",
              "      <th>Na</th>\n",
              "      <th>Protein</th>\n",
              "      <th>Total Trans FA</th>\n",
              "      <th>Vitamin A</th>\n",
              "      <th>Vitamin C</th>\n",
              "      <th>is_vegan</th>\n",
              "    </tr>\n",
              "  </thead>\n",
              "  <tbody>\n",
              "    <tr>\n",
              "      <th>0</th>\n",
              "      <td>0.773441</td>\n",
              "      <td>-0.978926</td>\n",
              "      <td>1.472339</td>\n",
              "      <td>-1.709537</td>\n",
              "      <td>3.377798</td>\n",
              "      <td>-1.004493</td>\n",
              "      <td>-1.026478</td>\n",
              "      <td>-0.046200</td>\n",
              "      <td>1.292033</td>\n",
              "      <td>0.402091</td>\n",
              "      <td>-1.142425</td>\n",
              "      <td>0.129133</td>\n",
              "      <td>-0.166494</td>\n",
              "      <td>-0.249061</td>\n",
              "      <td>1</td>\n",
              "    </tr>\n",
              "    <tr>\n",
              "      <th>1</th>\n",
              "      <td>-0.112982</td>\n",
              "      <td>0.466168</td>\n",
              "      <td>0.988001</td>\n",
              "      <td>-1.709537</td>\n",
              "      <td>1.772067</td>\n",
              "      <td>-0.120198</td>\n",
              "      <td>-0.852791</td>\n",
              "      <td>-0.047913</td>\n",
              "      <td>-0.576751</td>\n",
              "      <td>0.021205</td>\n",
              "      <td>1.340133</td>\n",
              "      <td>-0.280783</td>\n",
              "      <td>-0.166494</td>\n",
              "      <td>-0.249061</td>\n",
              "      <td>1</td>\n",
              "    </tr>\n",
              "    <tr>\n",
              "      <th>2</th>\n",
              "      <td>0.150549</td>\n",
              "      <td>-0.798289</td>\n",
              "      <td>2.255309</td>\n",
              "      <td>-1.709537</td>\n",
              "      <td>2.549034</td>\n",
              "      <td>-1.086404</td>\n",
              "      <td>-1.092435</td>\n",
              "      <td>-0.045552</td>\n",
              "      <td>2.305388</td>\n",
              "      <td>-0.353851</td>\n",
              "      <td>-1.729847</td>\n",
              "      <td>-0.280783</td>\n",
              "      <td>0.337015</td>\n",
              "      <td>1.326583</td>\n",
              "      <td>1</td>\n",
              "    </tr>\n",
              "    <tr>\n",
              "      <th>3</th>\n",
              "      <td>1.108844</td>\n",
              "      <td>-1.006021</td>\n",
              "      <td>0.492371</td>\n",
              "      <td>-1.709537</td>\n",
              "      <td>1.409483</td>\n",
              "      <td>-1.188574</td>\n",
              "      <td>-1.092435</td>\n",
              "      <td>-0.041085</td>\n",
              "      <td>2.772584</td>\n",
              "      <td>-0.122599</td>\n",
              "      <td>0.147806</td>\n",
              "      <td>-0.280783</td>\n",
              "      <td>-0.166494</td>\n",
              "      <td>-0.249061</td>\n",
              "      <td>1</td>\n",
              "    </tr>\n",
              "    <tr>\n",
              "      <th>4</th>\n",
              "      <td>-0.640044</td>\n",
              "      <td>-0.572493</td>\n",
              "      <td>0.335526</td>\n",
              "      <td>-1.709537</td>\n",
              "      <td>-0.455237</td>\n",
              "      <td>-1.096093</td>\n",
              "      <td>-1.092435</td>\n",
              "      <td>-0.036109</td>\n",
              "      <td>2.390931</td>\n",
              "      <td>0.180555</td>\n",
              "      <td>1.083136</td>\n",
              "      <td>-0.280783</td>\n",
              "      <td>-0.166494</td>\n",
              "      <td>-0.249061</td>\n",
              "      <td>1</td>\n",
              "    </tr>\n",
              "  </tbody>\n",
              "</table>\n",
              "</div>\n",
              "      <button class=\"colab-df-convert\" onclick=\"convertToInteractive('df-7ae93653-a0df-471d-8b7c-a8974add7cf0')\"\n",
              "              title=\"Convert this dataframe to an interactive table.\"\n",
              "              style=\"display:none;\">\n",
              "        \n",
              "  <svg xmlns=\"http://www.w3.org/2000/svg\" height=\"24px\"viewBox=\"0 0 24 24\"\n",
              "       width=\"24px\">\n",
              "    <path d=\"M0 0h24v24H0V0z\" fill=\"none\"/>\n",
              "    <path d=\"M18.56 5.44l.94 2.06.94-2.06 2.06-.94-2.06-.94-.94-2.06-.94 2.06-2.06.94zm-11 1L8.5 8.5l.94-2.06 2.06-.94-2.06-.94L8.5 2.5l-.94 2.06-2.06.94zm10 10l.94 2.06.94-2.06 2.06-.94-2.06-.94-.94-2.06-.94 2.06-2.06.94z\"/><path d=\"M17.41 7.96l-1.37-1.37c-.4-.4-.92-.59-1.43-.59-.52 0-1.04.2-1.43.59L10.3 9.45l-7.72 7.72c-.78.78-.78 2.05 0 2.83L4 21.41c.39.39.9.59 1.41.59.51 0 1.02-.2 1.41-.59l7.78-7.78 2.81-2.81c.8-.78.8-2.07 0-2.86zM5.41 20L4 18.59l7.72-7.72 1.47 1.35L5.41 20z\"/>\n",
              "  </svg>\n",
              "      </button>\n",
              "      \n",
              "  <style>\n",
              "    .colab-df-container {\n",
              "      display:flex;\n",
              "      flex-wrap:wrap;\n",
              "      gap: 12px;\n",
              "    }\n",
              "\n",
              "    .colab-df-convert {\n",
              "      background-color: #E8F0FE;\n",
              "      border: none;\n",
              "      border-radius: 50%;\n",
              "      cursor: pointer;\n",
              "      display: none;\n",
              "      fill: #1967D2;\n",
              "      height: 32px;\n",
              "      padding: 0 0 0 0;\n",
              "      width: 32px;\n",
              "    }\n",
              "\n",
              "    .colab-df-convert:hover {\n",
              "      background-color: #E2EBFA;\n",
              "      box-shadow: 0px 1px 2px rgba(60, 64, 67, 0.3), 0px 1px 3px 1px rgba(60, 64, 67, 0.15);\n",
              "      fill: #174EA6;\n",
              "    }\n",
              "\n",
              "    [theme=dark] .colab-df-convert {\n",
              "      background-color: #3B4455;\n",
              "      fill: #D2E3FC;\n",
              "    }\n",
              "\n",
              "    [theme=dark] .colab-df-convert:hover {\n",
              "      background-color: #434B5C;\n",
              "      box-shadow: 0px 1px 3px 1px rgba(0, 0, 0, 0.15);\n",
              "      filter: drop-shadow(0px 1px 2px rgba(0, 0, 0, 0.3));\n",
              "      fill: #FFFFFF;\n",
              "    }\n",
              "  </style>\n",
              "\n",
              "      <script>\n",
              "        const buttonEl =\n",
              "          document.querySelector('#df-7ae93653-a0df-471d-8b7c-a8974add7cf0 button.colab-df-convert');\n",
              "        buttonEl.style.display =\n",
              "          google.colab.kernel.accessAllowed ? 'block' : 'none';\n",
              "\n",
              "        async function convertToInteractive(key) {\n",
              "          const element = document.querySelector('#df-7ae93653-a0df-471d-8b7c-a8974add7cf0');\n",
              "          const dataTable =\n",
              "            await google.colab.kernel.invokeFunction('convertToInteractive',\n",
              "                                                     [key], {});\n",
              "          if (!dataTable) return;\n",
              "\n",
              "          const docLinkHtml = 'Like what you see? Visit the ' +\n",
              "            '<a target=\"_blank\" href=https://colab.research.google.com/notebooks/data_table.ipynb>data table notebook</a>'\n",
              "            + ' to learn more about interactive tables.';\n",
              "          element.innerHTML = '';\n",
              "          dataTable['output_type'] = 'display_data';\n",
              "          await google.colab.output.renderOutput(dataTable, element);\n",
              "          const docLink = document.createElement('div');\n",
              "          docLink.innerHTML = docLinkHtml;\n",
              "          element.appendChild(docLink);\n",
              "        }\n",
              "      </script>\n",
              "    </div>\n",
              "  </div>\n",
              "  "
            ]
          },
          "metadata": {},
          "execution_count": 12
        }
      ]
    },
    {
      "cell_type": "markdown",
      "source": [
        "## 2. Generar un modelo con el algoritmo de KNN. "
      ],
      "metadata": {
        "id": "qTFSHftocWKJ"
      }
    },
    {
      "cell_type": "code",
      "source": [
        "X = df_food3.iloc[:,0:-1]\n",
        "Y = df_food3.iloc[:,-1]"
      ],
      "metadata": {
        "id": "miSkFHv5cd4_"
      },
      "execution_count": null,
      "outputs": []
    },
    {
      "cell_type": "markdown",
      "source": [
        "En primer lugar, se va a buscar la K para la cual el desempeño del modelo es el mejor. Para el modelo se va a utilizar un método de distancia para los pesos en el cual todos los vecinos van cercanos pesan más. \n",
        "\n",
        "En cuanto a la métrica de la distancia, se va a dejar la métrica por defecto, minkoski. "
      ],
      "metadata": {
        "id": "7ILAt9Lbdkr5"
      }
    },
    {
      "cell_type": "code",
      "source": [
        "preds_list = []\n",
        "score_list = []\n",
        "k_list = []\n",
        "\n",
        "for k in list(range(1, 20, 2)):\n",
        "  knn_model = KNeighborsClassifier(n_neighbors=k, weights=\"uniform\", metric=\"minkowski\") # uniform’, ‘distance’\n",
        "  preds = cross_val_predict(knn_model, X, Y, cv=3, method=\"predict\", n_jobs=3)\n",
        "  score = cross_val_score(knn_model, X, Y, cv=3, scoring=\"accuracy\")\n",
        "  k_list.append(k)\n",
        "  preds_list.append(preds)\n",
        "  score_list.append(score.mean())\n",
        "\n",
        "  df_scores = pd.DataFrame({\"K\":k_list, \n",
        "                   \"score\":score_list\n",
        "                   })"
      ],
      "metadata": {
        "id": "hrWq48A2eGag"
      },
      "execution_count": null,
      "outputs": []
    },
    {
      "cell_type": "code",
      "source": [
        "df_scores.set_index(\"K\")[\"score\"].plot(label=\"KNN Score\")\n",
        "plt.legend()\n",
        "plt.show()"
      ],
      "metadata": {
        "colab": {
          "base_uri": "https://localhost:8080/",
          "height": 279
        },
        "id": "7wpZnM5AekpH",
        "outputId": "fd12589b-de52-4aef-cf87-99331a209039"
      },
      "execution_count": null,
      "outputs": [
        {
          "output_type": "display_data",
          "data": {
            "text/plain": [
              "<Figure size 432x288 with 1 Axes>"
            ],
            "image/png": "[encoded data removed]"
          },
          "metadata": {
            "needs_background": "light"
          }
        }
      ]
    },
    {
      "cell_type": "markdown",
      "source": [
        "Se observa como a partir de 9 vecinos el valor del score empieza a disminuir, y por tanto, teniendo en cuanto que un número grande de vecinos tendrá un coste computacional, no se van a  seleccionar valores superiores. Se va a fijar el valor de vecinos a **7**."
      ],
      "metadata": {
        "id": "GZcfyx-af0hj"
      }
    },
    {
      "cell_type": "code",
      "source": [
        "X_train, X_test, y_train, y_test = train_test_split(X, Y, stratify=Y, random_state=42, test_size=0.2)\n",
        "\n",
        "knn_model = KNeighborsClassifier(n_neighbors=9, weights=\"uniform\", metric=\"minkowski\")\n",
        "knn_model.fit(X_train, y_train)\n",
        "pred_train = knn_model.predict(X_train)\n",
        "pred_test = knn_model.predict(X_test)\n"
      ],
      "metadata": {
        "id": "LAOT3om1j1oE"
      },
      "execution_count": null,
      "outputs": []
    },
    {
      "cell_type": "markdown",
      "source": [
        "# 3. Evaluación del modelo\n",
        "\n",
        "Tras entrenar el modelo se va a proceder a evaluarlo."
      ],
      "metadata": {
        "id": "hjhPnTQFtIpw"
      }
    },
    {
      "cell_type": "markdown",
      "source": [
        "## **Calcula el Accuracy**"
      ],
      "metadata": {
        "id": "i1BmMVJttNb3"
      }
    },
    {
      "cell_type": "code",
      "source": [
        "print(\"Precisión sobre los datos de entrenamiento: {:.2f}\".format(100.0*knn_model.score(X_train, y_train)))\n",
        "print(\"Precisión sobre los datos de test: {:.2f}\".format(100.0*knn_model.score(X_test, y_test)))"
      ],
      "metadata": {
        "colab": {
          "base_uri": "https://localhost:8080/"
        },
        "id": "lTH_lwm9tEpc",
        "outputId": "4933f5e3-0035-4df6-bd65-b3a58931139d"
      },
      "execution_count": null,
      "outputs": [
        {
          "output_type": "stream",
          "name": "stdout",
          "text": [
            "Precisión sobre los datos de entrenamiento: 98.09\n",
            "Precisión sobre los datos de test: 97.66\n"
          ]
        }
      ]
    },
    {
      "cell_type": "markdown",
      "source": [
        "Se observa como la precisión del modelo, aunque ligeramente inferior en los datos de test, es buena en los datos de entrenamiento y en los datos de test, con poca variación (98.1% vs 97.7%) lo que indica que no se ha producido un sobreajuste."
      ],
      "metadata": {
        "id": "drSTsq9XkFtJ"
      }
    },
    {
      "cell_type": "markdown",
      "source": [
        "## **Grafica la ROC-Curve.**\n",
        "\n",
        "\n"
      ],
      "metadata": {
        "id": "rfSUVPKEtU2n"
      }
    },
    {
      "cell_type": "code",
      "source": [
        "\n",
        "knn_model = KNeighborsClassifier(n_neighbors=7, weights=\"uniform\", metric=\"minkowski\")\n",
        "knn_model.fit(X_train, y_train)\n",
        "plot_roc_curve(knn_model, X_test, y_test)\n",
        "plt.suptitle(\"ROC-AUC-CURVE\")\n",
        "plt.show()"
      ],
      "metadata": {
        "colab": {
          "base_uri": "https://localhost:8080/",
          "height": 363
        },
        "id": "1V4daPLMtad3",
        "outputId": "fcdf7414-99cb-4921-c0bd-2326296409ca"
      },
      "execution_count": null,
      "outputs": [
        {
          "output_type": "stream",
          "name": "stderr",
          "text": [
            "/usr/local/lib/python3.7/dist-packages/sklearn/utils/deprecation.py:87: FutureWarning: Function plot_roc_curve is deprecated; Function :func:`plot_roc_curve` is deprecated in 1.0 and will be removed in 1.2. Use one of the class methods: :meth:`sklearn.metric.RocCurveDisplay.from_predictions` or :meth:`sklearn.metric.RocCurveDisplay.from_estimator`.\n",
            "  warnings.warn(msg, category=FutureWarning)\n"
          ]
        },
        {
          "output_type": "display_data",
          "data": {
            "text/plain": [
              "<Figure size 432x288 with 1 Axes>"
            ],
            "image/png": "[encoded data removed]"
          },
          "metadata": {
            "needs_background": "light"
          }
        }
      ]
    },
    {
      "cell_type": "markdown",
      "source": [
        "El area bajo la curva del modelo es de 0.97, hay una probabilidad alta de que el clasificador distinga los valores positivos de los negativos.\n",
        "\n"
      ],
      "metadata": {
        "id": "uI_aqxgKt7MI"
      }
    },
    {
      "cell_type": "markdown",
      "source": [
        "## **Confusion-Matrix.**\n",
        "\n",
        "Además de conocer la accuracy del grupo de test, en este caso, es interesante explorar como se han distribuido las clasificaciones de los grupos vegano y no-vegano."
      ],
      "metadata": {
        "id": "yyNzUKHcVirv"
      }
    },
    {
      "cell_type": "code",
      "source": [
        "confusion_matrix(y_test, pred_test)\n",
        "\n",
        "print(f\"Confusion matrix:\\n\")\n",
        "disp = plot_confusion_matrix(knn_model, X_test, y_test, cmap=plt.cm.viridis,)\n",
        "plt.show()"
      ],
      "metadata": {
        "colab": {
          "base_uri": "https://localhost:8080/",
          "height": 368
        },
        "outputId": "0f683f73-fa4a-435f-d717-a6c42758f3c7",
        "id": "BMs-HQyAVirw"
      },
      "execution_count": null,
      "outputs": [
        {
          "output_type": "stream",
          "name": "stdout",
          "text": [
            "Confusion matrix:\n",
            "\n"
          ]
        },
        {
          "output_type": "stream",
          "name": "stderr",
          "text": [
            "/usr/local/lib/python3.7/dist-packages/sklearn/utils/deprecation.py:87: FutureWarning: Function plot_confusion_matrix is deprecated; Function `plot_confusion_matrix` is deprecated in 1.0 and will be removed in 1.2. Use one of the class methods: ConfusionMatrixDisplay.from_predictions or ConfusionMatrixDisplay.from_estimator.\n",
            "  warnings.warn(msg, category=FutureWarning)\n"
          ]
        },
        {
          "output_type": "display_data",
          "data": {
            "text/plain": [
              "<Figure size 432x288 with 2 Axes>"
            ],
            "image/png": "[encoded data removed]"
          },
          "metadata": {
            "needs_background": "light"
          }
        }
      ]
    },
    {
      "cell_type": "markdown",
      "source": [
        "Vemos como el modelo no ha clasificado correctamante le clase vegana en todos los casos casos, mientras que los productos cárnicos han sido categorizados correctamente en todos los casos."
      ],
      "metadata": {
        "id": "gBcH4m5647oT"
      }
    },
    {
      "cell_type": "markdown",
      "source": [
        "Se va a explorar que productos ha categorizado de forma erronea. "
      ],
      "metadata": {
        "id": "TXzkfKPj5Abl"
      }
    },
    {
      "cell_type": "code",
      "source": [
        "error_pred = X_test"
      ],
      "metadata": {
        "id": "AyAQ-JOcSLtt"
      },
      "execution_count": null,
      "outputs": []
    },
    {
      "cell_type": "code",
      "source": [
        "error_pred[\"predic\"] = knn_model.predict(X_test)\n"
      ],
      "metadata": {
        "id": "Rs95f8jDRwQV"
      },
      "execution_count": null,
      "outputs": []
    },
    {
      "cell_type": "code",
      "source": [
        "error_pred[\"label\"] = y_test"
      ],
      "metadata": {
        "id": "gyDNJRaKSw1Q"
      },
      "execution_count": null,
      "outputs": []
    },
    {
      "cell_type": "code",
      "source": [
        "error_pred2 = error_pred.query(\"label != predic\")"
      ],
      "metadata": {
        "id": "RWPlixN4R7HZ"
      },
      "execution_count": null,
      "outputs": []
    },
    {
      "cell_type": "markdown",
      "source": [
        "Se observan a continuación los productos veganos que han sido interpretados como cárnicos en base a su composición nutricional."
      ],
      "metadata": {
        "id": "8Hyfe9CH5FK9"
      }
    },
    {
      "cell_type": "code",
      "source": [
        "df_food.iloc[error_pred2.index]"
      ],
      "metadata": {
        "colab": {
          "base_uri": "https://localhost:8080/",
          "height": 112
        },
        "id": "-xZbToO7Tzq9",
        "outputId": "257fc72b-dc13-4424-c05f-289f75050adb"
      },
      "execution_count": null,
      "outputs": [
        {
          "output_type": "execute_result",
          "data": {
            "text/plain": [
              "      fdc_id                       description  is_vegan  Ca  CALORIES  \\\n",
              "807  1032377            GOLDEN FISHLESS FILETS      True  42       198   \n",
              "46    751794  Morningstar Farms Hot Dogs 8.4oz      True  19       126   \n",
              "\n",
              "     Carbohydrate  Cholesterol  Dietary  Fiber   FAT  Fat, saturated    Fe  \\\n",
              "807          12.5            0             2.1  12.5            1.04  1.67   \n",
              "46           11.2            0             2.3   1.3            0.20  1.20   \n",
              "\n",
              "       K    Na  Protein  Total Trans FA  Vitamin A  Vitamin C  \n",
              "807  271   375     8.33             0.0          0        0.0  \n",
              "46    37  1076    17.40             0.0        102        0.0  "
            ],
            "text/html": [
              "\n",
              "  <div id=\"df-7210f015-d6a1-4857-aae8-dca4ce195852\">\n",
              "    <div class=\"colab-df-container\">\n",
              "      <div>\n",
              "<style scoped>\n",
              "    .dataframe tbody tr th:only-of-type {\n",
              "        vertical-align: middle;\n",
              "    }\n",
              "\n",
              "    .dataframe tbody tr th {\n",
              "        vertical-align: top;\n",
              "    }\n",
              "\n",
              "    .dataframe thead th {\n",
              "        text-align: right;\n",
              "    }\n",
              "</style>\n",
              "<table border=\"1\" class=\"dataframe\">\n",
              "  <thead>\n",
              "    <tr style=\"text-align: right;\">\n",
              "      <th></th>\n",
              "      <th>fdc_id</th>\n",
              "      <th>description</th>\n",
              "      <th>is_vegan</th>\n",
              "      <th>Ca</th>\n",
              "      <th>CALORIES</th>\n",
              "      <th>Carbohydrate</th>\n",
              "      <th>Cholesterol</th>\n",
              "      <th>Dietary  Fiber</th>\n",
              "      <th>FAT</th>\n",
              "      <th>Fat, saturated</th>\n",
              "      <th>Fe</th>\n",
              "      <th>K</th>\n",
              "      <th>Na</th>\n",
              "      <th>Protein</th>\n",
              "      <th>Total Trans FA</th>\n",
              "      <th>Vitamin A</th>\n",
              "      <th>Vitamin C</th>\n",
              "    </tr>\n",
              "  </thead>\n",
              "  <tbody>\n",
              "    <tr>\n",
              "      <th>807</th>\n",
              "      <td>1032377</td>\n",
              "      <td>GOLDEN FISHLESS FILETS</td>\n",
              "      <td>True</td>\n",
              "      <td>42</td>\n",
              "      <td>198</td>\n",
              "      <td>12.5</td>\n",
              "      <td>0</td>\n",
              "      <td>2.1</td>\n",
              "      <td>12.5</td>\n",
              "      <td>1.04</td>\n",
              "      <td>1.67</td>\n",
              "      <td>271</td>\n",
              "      <td>375</td>\n",
              "      <td>8.33</td>\n",
              "      <td>0.0</td>\n",
              "      <td>0</td>\n",
              "      <td>0.0</td>\n",
              "    </tr>\n",
              "    <tr>\n",
              "      <th>46</th>\n",
              "      <td>751794</td>\n",
              "      <td>Morningstar Farms Hot Dogs 8.4oz</td>\n",
              "      <td>True</td>\n",
              "      <td>19</td>\n",
              "      <td>126</td>\n",
              "      <td>11.2</td>\n",
              "      <td>0</td>\n",
              "      <td>2.3</td>\n",
              "      <td>1.3</td>\n",
              "      <td>0.20</td>\n",
              "      <td>1.20</td>\n",
              "      <td>37</td>\n",
              "      <td>1076</td>\n",
              "      <td>17.40</td>\n",
              "      <td>0.0</td>\n",
              "      <td>102</td>\n",
              "      <td>0.0</td>\n",
              "    </tr>\n",
              "  </tbody>\n",
              "</table>\n",
              "</div>\n",
              "      <button class=\"colab-df-convert\" onclick=\"convertToInteractive('df-7210f015-d6a1-4857-aae8-dca4ce195852')\"\n",
              "              title=\"Convert this dataframe to an interactive table.\"\n",
              "              style=\"display:none;\">\n",
              "        \n",
              "  <svg xmlns=\"http://www.w3.org/2000/svg\" height=\"24px\"viewBox=\"0 0 24 24\"\n",
              "       width=\"24px\">\n",
              "    <path d=\"M0 0h24v24H0V0z\" fill=\"none\"/>\n",
              "    <path d=\"M18.56 5.44l.94 2.06.94-2.06 2.06-.94-2.06-.94-.94-2.06-.94 2.06-2.06.94zm-11 1L8.5 8.5l.94-2.06 2.06-.94-2.06-.94L8.5 2.5l-.94 2.06-2.06.94zm10 10l.94 2.06.94-2.06 2.06-.94-2.06-.94-.94-2.06-.94 2.06-2.06.94z\"/><path d=\"M17.41 7.96l-1.37-1.37c-.4-.4-.92-.59-1.43-.59-.52 0-1.04.2-1.43.59L10.3 9.45l-7.72 7.72c-.78.78-.78 2.05 0 2.83L4 21.41c.39.39.9.59 1.41.59.51 0 1.02-.2 1.41-.59l7.78-7.78 2.81-2.81c.8-.78.8-2.07 0-2.86zM5.41 20L4 18.59l7.72-7.72 1.47 1.35L5.41 20z\"/>\n",
              "  </svg>\n",
              "      </button>\n",
              "      \n",
              "  <style>\n",
              "    .colab-df-container {\n",
              "      display:flex;\n",
              "      flex-wrap:wrap;\n",
              "      gap: 12px;\n",
              "    }\n",
              "\n",
              "    .colab-df-convert {\n",
              "      background-color: #E8F0FE;\n",
              "      border: none;\n",
              "      border-radius: 50%;\n",
              "      cursor: pointer;\n",
              "      display: none;\n",
              "      fill: #1967D2;\n",
              "      height: 32px;\n",
              "      padding: 0 0 0 0;\n",
              "      width: 32px;\n",
              "    }\n",
              "\n",
              "    .colab-df-convert:hover {\n",
              "      background-color: #E2EBFA;\n",
              "      box-shadow: 0px 1px 2px rgba(60, 64, 67, 0.3), 0px 1px 3px 1px rgba(60, 64, 67, 0.15);\n",
              "      fill: #174EA6;\n",
              "    }\n",
              "\n",
              "    [theme=dark] .colab-df-convert {\n",
              "      background-color: #3B4455;\n",
              "      fill: #D2E3FC;\n",
              "    }\n",
              "\n",
              "    [theme=dark] .colab-df-convert:hover {\n",
              "      background-color: #434B5C;\n",
              "      box-shadow: 0px 1px 3px 1px rgba(0, 0, 0, 0.15);\n",
              "      filter: drop-shadow(0px 1px 2px rgba(0, 0, 0, 0.3));\n",
              "      fill: #FFFFFF;\n",
              "    }\n",
              "  </style>\n",
              "\n",
              "      <script>\n",
              "        const buttonEl =\n",
              "          document.querySelector('#df-7210f015-d6a1-4857-aae8-dca4ce195852 button.colab-df-convert');\n",
              "        buttonEl.style.display =\n",
              "          google.colab.kernel.accessAllowed ? 'block' : 'none';\n",
              "\n",
              "        async function convertToInteractive(key) {\n",
              "          const element = document.querySelector('#df-7210f015-d6a1-4857-aae8-dca4ce195852');\n",
              "          const dataTable =\n",
              "            await google.colab.kernel.invokeFunction('convertToInteractive',\n",
              "                                                     [key], {});\n",
              "          if (!dataTable) return;\n",
              "\n",
              "          const docLinkHtml = 'Like what you see? Visit the ' +\n",
              "            '<a target=\"_blank\" href=https://colab.research.google.com/notebooks/data_table.ipynb>data table notebook</a>'\n",
              "            + ' to learn more about interactive tables.';\n",
              "          element.innerHTML = '';\n",
              "          dataTable['output_type'] = 'display_data';\n",
              "          await google.colab.output.renderOutput(dataTable, element);\n",
              "          const docLink = document.createElement('div');\n",
              "          docLink.innerHTML = docLinkHtml;\n",
              "          element.appendChild(docLink);\n",
              "        }\n",
              "      </script>\n",
              "    </div>\n",
              "  </div>\n",
              "  "
            ]
          },
          "metadata": {},
          "execution_count": 20
        }
      ]
    },
    {
      "cell_type": "markdown",
      "source": [
        "Finalmente, se van a observar las métricas de clasificación del algoritmo."
      ],
      "metadata": {
        "id": "si5db1TQ5O7G"
      }
    },
    {
      "cell_type": "code",
      "source": [
        "from sklearn.metrics import classification_report\n",
        "print(f\"Informe de Clasificación:\\n\"\n",
        "      f\"{classification_report(y_test, knn_model.predict(X_test))}\")"
      ],
      "metadata": {
        "colab": {
          "base_uri": "https://localhost:8080/"
        },
        "outputId": "0e1b043a-33c7-426c-9253-2519d1185800",
        "id": "S52v-WhOeKDH"
      },
      "execution_count": null,
      "outputs": [
        {
          "output_type": "stream",
          "name": "stdout",
          "text": [
            "Informe de Clasificación:\n",
            "              precision    recall  f1-score   support\n",
            "\n",
            "           0       0.99      1.00      0.99       151\n",
            "           1       1.00      0.90      0.95        20\n",
            "\n",
            "    accuracy                           0.99       171\n",
            "   macro avg       0.99      0.95      0.97       171\n",
            "weighted avg       0.99      0.99      0.99       171\n",
            "\n"
          ]
        }
      ]
    }
  ]
}